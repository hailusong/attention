{
  "nbformat": 4,
  "nbformat_minor": 0,
  "metadata": {
    "colab": {
      "name": "keras-attention-tf2.ipynb",
      "version": "0.3.2",
      "provenance": [],
      "include_colab_link": true
    },
    "kernelspec": {
      "name": "python3",
      "display_name": "Python 3"
    },
    "accelerator": "GPU"
  },
  "cells": [
    {
      "cell_type": "markdown",
      "metadata": {
        "id": "view-in-github",
        "colab_type": "text"
      },
      "source": [
        "<a href=\"https://colab.research.google.com/github/hailusong/attention/blob/master/keras_attention_tf2.ipynb\" target=\"_parent\"><img src=\"https://colab.research.google.com/assets/colab-badge.svg\" alt=\"Open In Colab\"/></a>"
      ]
    },
    {
      "metadata": {
        "id": "579MNSU4tYnY",
        "colab_type": "text"
      },
      "cell_type": "markdown",
      "source": [
        "# [Keras Attention Layer](https://github.com/thushv89/attention_keras) Testing"
      ]
    },
    {
      "metadata": {
        "id": "Bw3vlh8Atg0Z",
        "colab_type": "text"
      },
      "cell_type": "markdown",
      "source": [
        "## Environment Setup"
      ]
    },
    {
      "metadata": {
        "id": "__IyRuCXuhnx",
        "colab_type": "code",
        "colab": {}
      },
      "cell_type": "code",
      "source": [
        "DEFAULT_HOME='/content'\n",
        "TF_RT_VERSION='1.13'\n",
        "PYTHON_VERSION='3.5'\n",
        "\n",
        "YOUR_GCS_BUCKET='id-norm'\n",
        "YOUR_PROJECT='orbital-purpose-130316'"
      ],
      "execution_count": 0,
      "outputs": []
    },
    {
      "metadata": {
        "id": "j-RzJcBrteia",
        "colab_type": "code",
        "colab": {}
      },
      "cell_type": "code",
      "source": [
        "# download the Keras Attention Implementation\n",
        "!git clone --depth 1 https://github.com/thushv89/attention_keras"
      ],
      "execution_count": 0,
      "outputs": []
    },
    {
      "metadata": {
        "id": "hXc5Y-zYtDAq",
        "colab_type": "code",
        "colab": {}
      },
      "cell_type": "code",
      "source": [
        "import sys\n",
        "sys.path.append(f'{DEFAULT_HOME}/attention_keras')"
      ],
      "execution_count": 0,
      "outputs": []
    },
    {
      "metadata": {
        "id": "Mm-5FPdhxH1i",
        "colab_type": "text"
      },
      "cell_type": "markdown",
      "source": [
        "### Data Setup"
      ]
    },
    {
      "metadata": {
        "id": "xonFGXsktBxG",
        "colab_type": "code",
        "colab": {}
      },
      "cell_type": "code",
      "source": [
        "!wget -O ./data/small_vocab_en https://github.com/udacity/deep-learning/blob/master/language-translation/data/small_vocab_en?raw=true\n",
        "!wget -O ./data/small_vocab_fr https://github.com/udacity/deep-learning/blob/master/language-translation/data/small_vocab_fr?raw=true "
      ],
      "execution_count": 0,
      "outputs": []
    },
    {
      "metadata": {
        "id": "ZQf19PPsw9jS",
        "colab_type": "text"
      },
      "cell_type": "markdown",
      "source": [
        "## Start Train"
      ]
    },
    {
      "metadata": {
        "id": "VCn7qYd_w-jj",
        "colab_type": "code",
        "colab": {}
      },
      "cell_type": "code",
      "source": [
        "from attention_keras.layers import AttentionLayer\n",
        "\n",
        "attn_layer = AttentionLayer(name='attention_layer')\n",
        "attn_out, attn_states = attn_layer([encoder_outputs, decoder_outputs])"
      ],
      "execution_count": 0,
      "outputs": []
    },
    {
      "metadata": {
        "id": "XODFdjhaxfaO",
        "colab_type": "code",
        "colab": {}
      },
      "cell_type": "code",
      "source": [
        "%run attention_keras/model/train_nmt.py"
      ],
      "execution_count": 0,
      "outputs": []
    }
  ]
}