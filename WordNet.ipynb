{
  "nbformat": 4,
  "nbformat_minor": 0,
  "metadata": {
    "colab": {
      "name": "WordNet.ipynb",
      "version": "0.3.2",
      "provenance": [],
      "include_colab_link": true
    },
    "kernelspec": {
      "name": "python3",
      "display_name": "Python 3"
    }
  },
  "cells": [
    {
      "cell_type": "markdown",
      "metadata": {
        "id": "view-in-github",
        "colab_type": "text"
      },
      "source": [
        "<a href=\"https://colab.research.google.com/github/hailusong/attention/blob/master/WordNet.ipynb\" target=\"_parent\"><img src=\"https://colab.research.google.com/assets/colab-badge.svg\" alt=\"Open In Colab\"/></a>"
      ]
    },
    {
      "metadata": {
        "id": "i1h__7ORuQWz",
        "colab_type": "text"
      },
      "cell_type": "markdown",
      "source": [
        "# Wordnet\n",
        "Referneces\n",
        "*   https://blog.csdn.net/u013736042/article/details/38472121\n",
        "*   List item\n",
        "\n"
      ]
    },
    {
      "metadata": {
        "id": "jtwoz5lfwHja",
        "colab_type": "code",
        "colab": {}
      },
      "cell_type": "code",
      "source": [
        "from IPython.core.interactiveshell import InteractiveShell\n",
        "InteractiveShell.ast_node_interactivity = \"all\""
      ],
      "execution_count": 0,
      "outputs": []
    },
    {
      "metadata": {
        "id": "SFacZbUgutXN",
        "colab_type": "text"
      },
      "cell_type": "markdown",
      "source": [
        "## WordNet"
      ]
    },
    {
      "metadata": {
        "id": "Eh_i_UumsHYL",
        "colab_type": "code",
        "colab": {
          "base_uri": "https://localhost:8080/",
          "height": 102
        },
        "outputId": "b5c81596-5b35-42ff-bfe8-1963c3614373"
      },
      "cell_type": "code",
      "source": [
        "import keras\n",
        "\n",
        "import nltk\n",
        "from nltk.corpus import wordnet\n",
        "\n",
        "nltk.download('wordnet')\n",
        "nltk.download('omw')"
      ],
      "execution_count": 52,
      "outputs": [
        {
          "output_type": "stream",
          "text": [
            "[nltk_data] Downloading package wordnet to /root/nltk_data...\n",
            "[nltk_data]   Package wordnet is already up-to-date!\n"
          ],
          "name": "stdout"
        },
        {
          "output_type": "execute_result",
          "data": {
            "text/plain": [
              "True"
            ]
          },
          "metadata": {
            "tags": []
          },
          "execution_count": 52
        },
        {
          "output_type": "stream",
          "text": [
            "[nltk_data] Downloading package omw to /root/nltk_data...\n",
            "[nltk_data]   Unzipping corpora/omw.zip.\n"
          ],
          "name": "stdout"
        },
        {
          "output_type": "execute_result",
          "data": {
            "text/plain": [
              "True"
            ]
          },
          "metadata": {
            "tags": []
          },
          "execution_count": 52
        }
      ]
    },
    {
      "metadata": {
        "id": "iqxoZRM0sIHU",
        "colab_type": "code",
        "colab": {
          "base_uri": "https://localhost:8080/",
          "height": 51
        },
        "outputId": "8187600c-996f-435f-b940-cb7594202010"
      },
      "cell_type": "code",
      "source": [
        "print(keras.__version__)\n",
        "print(nltk.__version__)"
      ],
      "execution_count": 4,
      "outputs": [
        {
          "output_type": "stream",
          "text": [
            "2.2.4\n",
            "3.2.5\n"
          ],
          "name": "stdout"
        }
      ]
    },
    {
      "metadata": {
        "id": "RmJPSSogsR2E",
        "colab_type": "code",
        "colab": {
          "base_uri": "https://localhost:8080/",
          "height": 102
        },
        "outputId": "ce98fa9c-3a7d-449a-d64b-13700b00c451"
      },
      "cell_type": "code",
      "source": [
        "wordnet.synsets('published')"
      ],
      "execution_count": 13,
      "outputs": [
        {
          "output_type": "execute_result",
          "data": {
            "text/plain": [
              "[Synset('print.v.01'),\n",
              " Synset('publish.v.02'),\n",
              " Synset('publish.v.03'),\n",
              " Synset('published.a.01'),\n",
              " Synset('promulgated.s.01')]"
            ]
          },
          "metadata": {
            "tags": []
          },
          "execution_count": 13
        }
      ]
    },
    {
      "metadata": {
        "id": "eiljTbrEsrgs",
        "colab_type": "code",
        "colab": {
          "base_uri": "https://localhost:8080/",
          "height": 34
        },
        "outputId": "7d34b138-17b4-471e-dabe-30cc6ce3b669"
      },
      "cell_type": "code",
      "source": [
        "x = wordnet.synsets('recommended')[-1]\n",
        "y = wordnet.synsets('suggested')[-1]\n",
        "x, y\n",
        "# x.shortest_path_distance(y)"
      ],
      "execution_count": 6,
      "outputs": [
        {
          "output_type": "execute_result",
          "data": {
            "text/plain": [
              "(Synset('recommend.v.03'), Synset('suggest.v.05'))"
            ]
          },
          "metadata": {
            "tags": []
          },
          "execution_count": 6
        }
      ]
    },
    {
      "metadata": {
        "id": "4uEkPoONtKdy",
        "colab_type": "code",
        "colab": {
          "base_uri": "https://localhost:8080/",
          "height": 136
        },
        "outputId": "215405c1-01de-44b4-e3aa-b37878535aba"
      },
      "cell_type": "code",
      "source": [
        "a = wordnet.synsets('glorious')[0]\n",
        "a.similar_tos()"
      ],
      "execution_count": 11,
      "outputs": [
        {
          "output_type": "execute_result",
          "data": {
            "text/plain": [
              "[Synset('bright.s.06'),\n",
              " Synset('celebrated.s.02'),\n",
              " Synset('divine.s.06'),\n",
              " Synset('empyreal.s.02'),\n",
              " Synset('illustrious.s.02'),\n",
              " Synset('incandescent.s.02'),\n",
              " Synset('lustrous.s.02')]"
            ]
          },
          "metadata": {
            "tags": []
          },
          "execution_count": 11
        }
      ]
    },
    {
      "metadata": {
        "id": "5tCyg4eJwqkc",
        "colab_type": "code",
        "colab": {
          "base_uri": "https://localhost:8080/",
          "height": 170
        },
        "outputId": "bc8f4982-c14a-4f25-c2fd-f8ac485eccb2"
      },
      "cell_type": "code",
      "source": [
        "wordnet.synsets('sorry')[0], wordnet.synsets('sorry')[1]\n",
        "wordnet.synsets('sorry')[0].pos(), wordnet.synsets('sorry')[1].pos()\n",
        "wordnet.synsets('sorry')[0].lemmas(), wordnet.synsets('sorry')[1].lemmas()\n",
        "len(wordnet.synsets('sorry')[0].lemmas()), len(wordnet.synsets('sorry')[1].lemmas())\n",
        "wordnet.synsets('sorry')[0].similar_tos(), wordnet.synsets('sorry')[1].similar_tos()"
      ],
      "execution_count": 24,
      "outputs": [
        {
          "output_type": "execute_result",
          "data": {
            "text/plain": [
              "(Synset('regretful.a.01'), Synset('deplorable.s.01'))"
            ]
          },
          "metadata": {
            "tags": []
          },
          "execution_count": 24
        },
        {
          "output_type": "execute_result",
          "data": {
            "text/plain": [
              "('a', 's')"
            ]
          },
          "metadata": {
            "tags": []
          },
          "execution_count": 24
        },
        {
          "output_type": "execute_result",
          "data": {
            "text/plain": [
              "([Lemma('regretful.a.01.regretful'),\n",
              "  Lemma('regretful.a.01.sorry'),\n",
              "  Lemma('regretful.a.01.bad')],\n",
              " [Lemma('deplorable.s.01.deplorable'),\n",
              "  Lemma('deplorable.s.01.distressing'),\n",
              "  Lemma('deplorable.s.01.lamentable'),\n",
              "  Lemma('deplorable.s.01.pitiful'),\n",
              "  Lemma('deplorable.s.01.sad'),\n",
              "  Lemma('deplorable.s.01.sorry')])"
            ]
          },
          "metadata": {
            "tags": []
          },
          "execution_count": 24
        },
        {
          "output_type": "execute_result",
          "data": {
            "text/plain": [
              "(3, 6)"
            ]
          },
          "metadata": {
            "tags": []
          },
          "execution_count": 24
        },
        {
          "output_type": "execute_result",
          "data": {
            "text/plain": [
              "([], [Synset('bad.a.01')])"
            ]
          },
          "metadata": {
            "tags": []
          },
          "execution_count": 24
        }
      ]
    },
    {
      "metadata": {
        "id": "8F7M_4tmyy5e",
        "colab_type": "text"
      },
      "cell_type": "markdown",
      "source": [
        "## Synonyms and Antonums with WordNet\n",
        "References:\n",
        "* https://stackoverflow.com/questions/38233145/nltk-most-common-synonym-wordnet-for-each-word\n",
        "\n",
        "\n",
        "### [WordNet Documentation](http://www.nltk.org/howto/wordnet.html)\n",
        "* **Synset**: a set of **synonyms** that share a **common meaning**\n",
        "    - **Each synset** contains **one or more lemmas**, which represent **a specific sense of a specific word**.\n",
        "* Note that some relations are defined by WordNet only over Lemmas"
      ]
    },
    {
      "metadata": {
        "id": "gW8OODJ38tWg",
        "colab_type": "code",
        "colab": {
          "base_uri": "https://localhost:8080/",
          "height": 731
        },
        "outputId": "51c81300-4163-482e-f7a4-e648e50045be"
      },
      "cell_type": "code",
      "source": [
        "all_good = wordnet.synsets('good')\n",
        "good_1 = wordnet.synset('good.n.01')\n",
        "good_2 = wordnet.synset('good.n.02')\n",
        "good_3 = wordnet.synset('good.n.03')\n",
        "good_a1 = wordnet.synset('good.a.01')\n",
        "\n",
        "print(f'dumping all synsets of \"good\":')\n",
        "all_good\n",
        "print(f'\\ndumping all lemmas in the synset {good_1}: {[lemma.name() for lemma in good_1.lemmas()]}')\n",
        "print(f'dumping all lemmas in the synset {good_2}: {[lemma.name() for lemma in good_2.lemmas()]}')\n",
        "print(f'dumping all lemmas in the synset {good_a1}: {[lemma.name() for lemma in good_a1.lemmas()]}')\n",
        "print(f'dumping all lemmas in the synset {good_3} in japanese: {good_3.lemma_names(lang=\"jpn\")}')\n",
        "\n",
        "print(f'\\n{good_1} hypernyms is')\n",
        "good_1.hypernyms(), good_1.member_holonyms()  # doctest: +ELLIPSIS\n",
        "print(f'\\n{good_2} hypernyms is')\n",
        "good_2.hypernyms(), good_2.member_holonyms()  # doctest: +ELLIPSIS\n",
        "print(f'\\n{good_3} hypernyms is')\n",
        "good_3.hypernyms(), good_3.member_holonyms()  # doctest: +ELLIPSIS\n",
        "\n",
        "print(f\"\\n\\ndumping {good_1} hypernyms' first synset's lemma names\")\n",
        "good_1.hypernyms()[0].lemma_names()"
      ],
      "execution_count": 68,
      "outputs": [
        {
          "output_type": "stream",
          "text": [
            "dumping all synsets of \"good\":\n"
          ],
          "name": "stdout"
        },
        {
          "output_type": "execute_result",
          "data": {
            "text/plain": [
              "[Synset('good.n.01'),\n",
              " Synset('good.n.02'),\n",
              " Synset('good.n.03'),\n",
              " Synset('commodity.n.01'),\n",
              " Synset('good.a.01'),\n",
              " Synset('full.s.06'),\n",
              " Synset('good.a.03'),\n",
              " Synset('estimable.s.02'),\n",
              " Synset('beneficial.s.01'),\n",
              " Synset('good.s.06'),\n",
              " Synset('good.s.07'),\n",
              " Synset('adept.s.01'),\n",
              " Synset('good.s.09'),\n",
              " Synset('dear.s.02'),\n",
              " Synset('dependable.s.04'),\n",
              " Synset('good.s.12'),\n",
              " Synset('good.s.13'),\n",
              " Synset('effective.s.04'),\n",
              " Synset('good.s.15'),\n",
              " Synset('good.s.16'),\n",
              " Synset('good.s.17'),\n",
              " Synset('good.s.18'),\n",
              " Synset('good.s.19'),\n",
              " Synset('good.s.20'),\n",
              " Synset('good.s.21'),\n",
              " Synset('well.r.01'),\n",
              " Synset('thoroughly.r.02')]"
            ]
          },
          "metadata": {
            "tags": []
          },
          "execution_count": 68
        },
        {
          "output_type": "stream",
          "text": [
            "\n",
            "dumping all lemmas in the synset Synset('good.n.01'): ['good']\n",
            "dumping all lemmas in the synset Synset('good.n.02'): ['good', 'goodness']\n",
            "dumping all lemmas in the synset Synset('good.a.01'): ['good']\n",
            "dumping all lemmas in the synset Synset('good.n.03') in japanese: ['よさ', '善', '美点', '良', '良さ', '長所']\n",
            "\n",
            "Synset('good.n.01') hypernyms is\n"
          ],
          "name": "stdout"
        },
        {
          "output_type": "execute_result",
          "data": {
            "text/plain": [
              "([Synset('advantage.n.01')], [])"
            ]
          },
          "metadata": {
            "tags": []
          },
          "execution_count": 68
        },
        {
          "output_type": "stream",
          "text": [
            "\n",
            "Synset('good.n.02') hypernyms is\n"
          ],
          "name": "stdout"
        },
        {
          "output_type": "execute_result",
          "data": {
            "text/plain": [
              "([Synset('morality.n.01')], [])"
            ]
          },
          "metadata": {
            "tags": []
          },
          "execution_count": 68
        },
        {
          "output_type": "stream",
          "text": [
            "\n",
            "Synset('good.n.03') hypernyms is\n"
          ],
          "name": "stdout"
        },
        {
          "output_type": "execute_result",
          "data": {
            "text/plain": [
              "([Synset('quality.n.01')], [])"
            ]
          },
          "metadata": {
            "tags": []
          },
          "execution_count": 68
        },
        {
          "output_type": "stream",
          "text": [
            "\n",
            "\n",
            "dumping Synset('good.n.01') hypernyms' first synset's lemma names\n"
          ],
          "name": "stdout"
        },
        {
          "output_type": "execute_result",
          "data": {
            "text/plain": [
              "['advantage', 'vantage']"
            ]
          },
          "metadata": {
            "tags": []
          },
          "execution_count": 68
        }
      ]
    },
    {
      "metadata": {
        "id": "8ROtyyIM8VwF",
        "colab_type": "code",
        "colab": {
          "base_uri": "https://localhost:8080/",
          "height": 34
        },
        "outputId": "e72eaa26-ad8c-46cc-85c9-d571d24ea4a3"
      },
      "cell_type": "code",
      "source": [
        "good = wordnet.synset('good.a.01')\n",
        "good.lemmas()[0].antonyms()"
      ],
      "execution_count": 26,
      "outputs": [
        {
          "output_type": "execute_result",
          "data": {
            "text/plain": [
              "[Lemma('bad.a.01.bad')]"
            ]
          },
          "metadata": {
            "tags": []
          },
          "execution_count": 26
        }
      ]
    },
    {
      "metadata": {
        "id": "VlImnRfruvcN",
        "colab_type": "text"
      },
      "cell_type": "markdown",
      "source": [
        "## SentiWordNet\n",
        "References: \n",
        "* http://www.nltk.org/howto/sentiwordnet.html\n",
        "* https://blog.csdn.net/xieyan0811/article/details/62056558"
      ]
    },
    {
      "metadata": {
        "id": "eyEu9JDUtUyX",
        "colab_type": "code",
        "colab": {
          "base_uri": "https://localhost:8080/",
          "height": 68
        },
        "outputId": "2d9085cd-8b85-48c2-a4b8-371928e74654"
      },
      "cell_type": "code",
      "source": [
        "from nltk.corpus import sentiwordnet as swn\n",
        "\n",
        "nltk.download('sentiwordnet')"
      ],
      "execution_count": 35,
      "outputs": [
        {
          "output_type": "stream",
          "text": [
            "[nltk_data] Downloading package sentiwordnet to /root/nltk_data...\n",
            "[nltk_data]   Unzipping corpora/sentiwordnet.zip.\n"
          ],
          "name": "stdout"
        },
        {
          "output_type": "execute_result",
          "data": {
            "text/plain": [
              "True"
            ]
          },
          "metadata": {
            "tags": []
          },
          "execution_count": 35
        }
      ]
    },
    {
      "metadata": {
        "id": "qYNj0ElhvlC7",
        "colab_type": "text"
      },
      "cell_type": "markdown",
      "source": [
        "#### SentiSynsets"
      ]
    },
    {
      "metadata": {
        "id": "B0H1tvUIu-ck",
        "colab_type": "code",
        "colab": {
          "base_uri": "https://localhost:8080/",
          "height": 85
        },
        "outputId": "e997fe63-94ae-4899-c62b-fff321601f85"
      },
      "cell_type": "code",
      "source": [
        "breakdown = swn.senti_synset('breakdown.n.03')\n",
        "print(f'Breakdown {breakdown}')\n",
        "print(f'POS: {breakdown.pos_score()}')\n",
        "print(f'NEG: {breakdown.neg_score()}')\n",
        "print(f'OBJ: {breakdown.obj_score()}')"
      ],
      "execution_count": 38,
      "outputs": [
        {
          "output_type": "stream",
          "text": [
            "Breakdown <breakdown.n.03: PosScore=0.0 NegScore=0.25>\n",
            "POS: 0.0\n",
            "NEG: 0.25\n",
            "OBJ: 0.75\n"
          ],
          "name": "stdout"
        }
      ]
    },
    {
      "metadata": {
        "id": "UAg8CxObviRD",
        "colab_type": "text"
      },
      "cell_type": "markdown",
      "source": [
        "#### Lookup"
      ]
    },
    {
      "metadata": {
        "id": "Yo5PLk2UvDXB",
        "colab_type": "code",
        "colab": {
          "base_uri": "https://localhost:8080/",
          "height": 204
        },
        "outputId": "fb78f77d-5b18-4f6c-9a11-ffe6656ddf6c"
      },
      "cell_type": "code",
      "source": [
        "list(swn.senti_synsets('slow')) # doctest: +NORMALIZE_WHITESPACE"
      ],
      "execution_count": 39,
      "outputs": [
        {
          "output_type": "execute_result",
          "data": {
            "text/plain": [
              "[SentiSynset('decelerate.v.01'),\n",
              " SentiSynset('slow.v.02'),\n",
              " SentiSynset('slow.v.03'),\n",
              " SentiSynset('slow.a.01'),\n",
              " SentiSynset('slow.a.02'),\n",
              " SentiSynset('dense.s.04'),\n",
              " SentiSynset('slow.a.04'),\n",
              " SentiSynset('boring.s.01'),\n",
              " SentiSynset('dull.s.08'),\n",
              " SentiSynset('slowly.r.01'),\n",
              " SentiSynset('behind.r.03')]"
            ]
          },
          "metadata": {
            "tags": []
          },
          "execution_count": 39
        }
      ]
    },
    {
      "metadata": {
        "id": "FWFVnUI2vhcK",
        "colab_type": "code",
        "colab": {
          "base_uri": "https://localhost:8080/",
          "height": 34
        },
        "outputId": "8be552e6-2c6a-4901-b1db-bbbd6306e137"
      },
      "cell_type": "code",
      "source": [
        "happy = swn.senti_synsets('happy', 'a')\n",
        "print(happy)"
      ],
      "execution_count": 41,
      "outputs": [
        {
          "output_type": "stream",
          "text": [
            "<filter object at 0x7fba15a90898>\n"
          ],
          "name": "stdout"
        }
      ]
    },
    {
      "metadata": {
        "id": "yNSc0ZzMvsA9",
        "colab_type": "code",
        "colab": {}
      },
      "cell_type": "code",
      "source": [
        ""
      ],
      "execution_count": 0,
      "outputs": []
    }
  ]
}